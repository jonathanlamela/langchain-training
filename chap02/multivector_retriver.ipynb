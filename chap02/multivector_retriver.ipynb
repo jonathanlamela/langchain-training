{
 "cells": [
  {
   "cell_type": "code",
   "execution_count": 1,
   "id": "26e935a6",
   "metadata": {},
   "outputs": [],
   "source": [
    "from langchain_community.document_loaders import TextLoader\n",
    "\n",
    "# Load text\n",
    "loader = TextLoader(\"./data/genesi.txt\")\n",
    "content = loader.load()"
   ]
  },
  {
   "cell_type": "code",
   "execution_count": 2,
   "id": "c489744a",
   "metadata": {},
   "outputs": [],
   "source": [
    "# Define separators for text\n",
    "separators = [\n",
    "    \"\\n\\n\",\n",
    "    \"\\n\",\n",
    "]"
   ]
  },
  {
   "cell_type": "code",
   "execution_count": 3,
   "id": "7b7fcf47",
   "metadata": {},
   "outputs": [],
   "source": [
    "from langchain_text_splitters import RecursiveCharacterTextSplitter\n",
    "\n",
    "# Create chunks\n",
    "splitter = RecursiveCharacterTextSplitter(separators=separators,chunk_size=400, chunk_overlap=100)\n",
    "chunks = splitter.split_documents(content)"
   ]
  },
  {
   "cell_type": "code",
   "execution_count": 4,
   "id": "91221313",
   "metadata": {},
   "outputs": [],
   "source": [
    "from langchain_core.prompts import ChatPromptTemplate\n",
    "from langchain_ollama.chat_models import ChatOllama\n",
    "from langchain_core.output_parsers import StrOutputParser\n",
    "\n",
    "prompt_text = \"Summarize the following document:\\n\\n{doc}\"\n",
    "prompt = ChatPromptTemplate.from_template(prompt_text)\n",
    "llm = ChatOllama(temperature=0, model=\"llama3.2\")"
   ]
  },
  {
   "cell_type": "code",
   "execution_count": 5,
   "id": "710db6f7",
   "metadata": {},
   "outputs": [],
   "source": [
    "summarize_chain = {\n",
    "    \"doc\": lambda x: x.page_content\n",
    "    } | prompt | llm | StrOutputParser()"
   ]
  },
  {
   "cell_type": "code",
   "execution_count": null,
   "id": "f3de9068",
   "metadata": {},
   "outputs": [],
   "source": [
    "summaries = summarize_chain.batch(chunks, {\"max_concurrency\":10})"
   ]
  },
  {
   "cell_type": "code",
   "execution_count": null,
   "id": "a96a46d1",
   "metadata": {},
   "outputs": [],
   "source": [
    "from langchain_ollama import OllamaEmbeddings\n",
    "\n",
    "# Define and load an embedding model, nomic it's optmized for italian\n",
    "embeddings_model = OllamaEmbeddings(model=\"nomic-embed-text\")"
   ]
  },
  {
   "cell_type": "code",
   "execution_count": null,
   "id": "7f560a76",
   "metadata": {},
   "outputs": [],
   "source": [
    "from langchain_qdrant import QdrantVectorStore\n",
    "connection_string = \"http://localhost:6333\"\n",
    "\n",
    "# Start embedding\n",
    "qdrant = QdrantVectorStore.from_documents(\n",
    "    chunks,\n",
    "    embedding=embeddings_model,\n",
    "    url=connection_string,\n",
    "    collection_name=\"chap02\"\n",
    ")"
   ]
  },
  {
   "cell_type": "code",
   "execution_count": null,
   "id": "4390d750",
   "metadata": {},
   "outputs": [],
   "source": [
    "from langchain_classic.storage import InMemoryStore\n",
    "\n",
    "store = InMemoryStore()\n",
    "id_key = \"doc_id\""
   ]
  },
  {
   "cell_type": "code",
   "execution_count": null,
   "id": "50d88bbd",
   "metadata": {},
   "outputs": [],
   "source": [
    "from langchain_classic.retrievers import MultiVectorRetriever\n",
    "\n",
    "retriever = MultiVectorRetriever(\n",
    "    vectorstore=qdrant,\n",
    "    docstore=store,\n",
    "    id_key=id_key\n",
    ")"
   ]
  },
  {
   "cell_type": "code",
   "execution_count": null,
   "id": "e86e74dc",
   "metadata": {},
   "outputs": [],
   "source": [
    "import uuid\n",
    "\n",
    "doc_ids = [str(uuid.uuid4()) for _ in chunks]"
   ]
  },
  {
   "cell_type": "code",
   "execution_count": null,
   "id": "6a5da1b7",
   "metadata": {},
   "outputs": [],
   "source": [
    "from langchain_core.documents import Document\n",
    "\n",
    "summary_docs = [\n",
    "    Document(page_content=s, metadata={id_key: doc_ids[i]})\n",
    "    for i, s in enumerate(summaries)\n",
    "]"
   ]
  },
  {
   "cell_type": "code",
   "execution_count": null,
   "id": "4935d9ee",
   "metadata": {},
   "outputs": [],
   "source": [
    "retriever.docstore.mset(list(zip(doc_ids, chunks)))"
   ]
  },
  {
   "cell_type": "code",
   "execution_count": null,
   "id": "6f926074",
   "metadata": {},
   "outputs": [],
   "source": [
    "retriever.vectorstore.similarity_search(\"mangiarono\",k=2)"
   ]
  },
  {
   "cell_type": "code",
   "execution_count": null,
   "id": "8c0f4536",
   "metadata": {},
   "outputs": [],
   "source": [
    "retriever.invoke(\"mangiarono\")"
   ]
  },
  {
   "cell_type": "markdown",
   "id": "f6a2d74d",
   "metadata": {},
   "source": []
  }
 ],
 "metadata": {
  "kernelspec": {
   "display_name": "localenv",
   "language": "python",
   "name": "python3"
  },
  "language_info": {
   "codemirror_mode": {
    "name": "ipython",
    "version": 3
   },
   "file_extension": ".py",
   "mimetype": "text/x-python",
   "name": "python",
   "nbconvert_exporter": "python",
   "pygments_lexer": "ipython3",
   "version": "3.13.0"
  }
 },
 "nbformat": 4,
 "nbformat_minor": 5
}
