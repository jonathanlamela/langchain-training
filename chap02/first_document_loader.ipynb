{
 "cells": [
  {
   "cell_type": "code",
   "execution_count": null,
   "id": "414665e0",
   "metadata": {},
   "outputs": [],
   "source": [
    "from langchain_community.document_loaders import TextLoader"
   ]
  },
  {
   "cell_type": "code",
   "execution_count": null,
   "id": "26e935a6",
   "metadata": {},
   "outputs": [],
   "source": [
    "loader = TextLoader(\"./genesi.txt\")"
   ]
  },
  {
   "cell_type": "code",
   "execution_count": null,
   "id": "67aa3de6",
   "metadata": {},
   "outputs": [],
   "source": [
    "loader.load()"
   ]
  }
 ],
 "metadata": {
  "kernelspec": {
   "display_name": "localenv",
   "language": "python",
   "name": "python3"
  },
  "language_info": {
   "codemirror_mode": {
    "name": "ipython",
    "version": 3
   },
   "file_extension": ".py",
   "mimetype": "text/x-python",
   "name": "python",
   "nbconvert_exporter": "python",
   "pygments_lexer": "ipython3",
   "version": "3.13.0"
  }
 },
 "nbformat": 4,
 "nbformat_minor": 5
}
