{
 "cells": [
  {
   "cell_type": "code",
   "execution_count": 36,
   "id": "26e935a6",
   "metadata": {},
   "outputs": [],
   "source": [
    "from langchain_community.document_loaders import TextLoader\n",
    "\n",
    "# Load text\n",
    "loader = TextLoader(\"./data/genesi.txt\")\n",
    "content = loader.load()[0].page_content"
   ]
  },
  {
   "cell_type": "code",
   "execution_count": 37,
   "id": "cf2547ab",
   "metadata": {},
   "outputs": [],
   "source": [
    "import re\n",
    "\n",
    "chapters = re.split(r\"(?=Capitolo\\s+\\d+)\", content)"
   ]
  },
  {
   "cell_type": "code",
   "execution_count": 38,
   "id": "c489744a",
   "metadata": {},
   "outputs": [],
   "source": [
    "# Define separators for text\n",
    "separators = [\n",
    "   \". \",\n",
    "   \"\\n\\n\",\n",
    "   \"\\n\",\n",
    "]"
   ]
  },
  {
   "cell_type": "code",
   "execution_count": 39,
   "id": "7b7fcf47",
   "metadata": {},
   "outputs": [],
   "source": [
    "from langchain_text_splitters import RecursiveCharacterTextSplitter\n",
    "\n",
    "# Create chunks\n",
    "docs = []\n",
    "splitter = RecursiveCharacterTextSplitter(separators=separators,chunk_size=400, chunk_overlap=200)"
   ]
  },
  {
   "cell_type": "code",
   "execution_count": 40,
   "id": "50730df7",
   "metadata": {},
   "outputs": [],
   "source": [
    "for chapter_text in chapters:\n",
    "    chapter_text = chapter_text.strip()\n",
    "    if not chapter_text:\n",
    "        continue\n",
    "\n",
    "    # Add a metadata with chapter name\n",
    "    match = re.match(r\"(Capitolo\\s+\\d+)\", chapter_text)\n",
    "    chapter_title = match.group(1) if match else \"Unknown\"\n",
    "\n",
    "    chapter_docs = splitter.create_documents([chapter_text], metadatas=[{\"chapter\": chapter_title}])\n",
    "    docs.extend(chapter_docs)"
   ]
  },
  {
   "cell_type": "code",
   "execution_count": 41,
   "id": "a96a46d1",
   "metadata": {},
   "outputs": [],
   "source": [
    "from langchain_huggingface import HuggingFaceEmbeddings\n",
    "\n",
    "# Define and load an embedding model, nomic it's optmized for italian\n",
    "embeddings_model = HuggingFaceEmbeddings(model_name=\"intfloat/multilingual-e5-large\")"
   ]
  },
  {
   "cell_type": "code",
   "execution_count": 42,
   "id": "7f560a76",
   "metadata": {},
   "outputs": [],
   "source": [
    "from langchain_qdrant import QdrantVectorStore\n",
    "connection_string = \"http://localhost:6333\"\n",
    "\n",
    "# Start embedding\n",
    "qdrant = QdrantVectorStore.from_documents(\n",
    "    docs,\n",
    "    embedding=embeddings_model,\n",
    "    url=connection_string,\n",
    "    collection_name=\"chap02\",\n",
    "    force_recreate=True,\n",
    "    distance=\"Cosine\"\n",
    ")"
   ]
  },
  {
   "cell_type": "code",
   "execution_count": 43,
   "id": "0b6dcbbb",
   "metadata": {},
   "outputs": [],
   "source": [
    "retriever = qdrant.as_retriever(search_kwargs={\"k\": 4})"
   ]
  },
  {
   "cell_type": "code",
   "execution_count": 44,
   "id": "9d2c8cfb",
   "metadata": {},
   "outputs": [
    {
     "data": {
      "text/plain": [
       "[Document(metadata={'chapter': 'Capitolo 3', '_id': '10b0c7e8-3379-48a3-8716-ec935db584b5', '_collection_name': 'chap02'}, page_content='. 3\\xa0Ma riguardo all’albero che è in mezzo al giardino Dio ha detto: ‘Non dovete mangiarne il frutto, no, non dovete toccarlo, altrimenti morirete’”. 4\\xa0Allora il serpente disse alla donna: “Sicuramente non morirete'),\n",
       " Document(metadata={'chapter': 'Capitolo 3', '_id': '4cb988ba-bbed-4fec-94b4-0e1656637c7e', '_collection_name': 'chap02'}, page_content='. 11\\xa0Dio gli chiese: “Chi ti ha detto che eri nudo? Hai mangiato il frutto dell’albero che ti avevo proibito di mangiare?” 12\\xa0L’uomo rispose: “La donna che mi hai dato, è stata lei a darmi il frutto dell’albero, e così ho mangiato”'),\n",
       " Document(metadata={'chapter': 'Capitolo 18', '_id': '89a1839d-9964-4d3a-98a4-346c82335732', '_collection_name': 'chap02'}, page_content='. 3\\xa0Quindi disse: “Geova, ti prego, se ho la tua approvazione non passare oltre: fermati dal tuo servitore! 4\\xa0Permettetemi, per favore, di farvi portare un po’ d’acqua e di farvi lavare i piedi. Poi riposatevi sotto l’albero. 5\\xa0Visto che siete venuti qui dal vostro servitore, permettetemi di portarvi un pezzo di pane per farvi ristorare, e poi potrete rimettervi in cammino”'),\n",
       " Document(metadata={'chapter': 'Capitolo 24', '_id': '051736fa-ca1c-4245-928a-bfadd6ed360c', '_collection_name': 'chap02'}, page_content='. 33\\xa0Quando poi gli fu messo davanti qualcosa da mangiare, l’uomo disse: “Non mangerò finché non avrò detto quello che devo riferire”. Perciò Làbano disse: “Parla!”\\n34\\xa0L’uomo disse: “Sono un servitore di Abraamo. 35\\xa0Geova ha benedetto moltissimo il mio padrone, e lo ha fatto diventare molto ricco dandogli pecore e bovini, argento e oro, servi e serve, cammelli e asini')]"
      ]
     },
     "execution_count": 44,
     "metadata": {},
     "output_type": "execute_result"
    }
   ],
   "source": [
    "retriever.invoke(\"Testo biblico dove Dio proibisce di mangiare qualcosa\")"
   ]
  },
  {
   "cell_type": "markdown",
   "id": "f6a2d74d",
   "metadata": {},
   "source": []
  },
  {
   "cell_type": "code",
   "execution_count": 45,
   "id": "91331e13",
   "metadata": {},
   "outputs": [
    {
     "name": "stdout",
     "output_type": "stream",
     "text": [
      "0.851271792605687\n"
     ]
    }
   ],
   "source": [
    "from numpy import dot\n",
    "from numpy.linalg import norm\n",
    "\n",
    "v1 = embeddings_model.embed_query(\"Dio proibisce di mangiare qualcosa\")\n",
    "v2 = embeddings_model.embed_query(\"ma il frutto dell'albero della conoscenza del bene e del male non devi mangiarlo\")\n",
    "\n",
    "similarity = dot(v1, v2) / (norm(v1) * norm(v2))\n",
    "print(similarity)"
   ]
  }
 ],
 "metadata": {
  "kernelspec": {
   "display_name": "localenv",
   "language": "python",
   "name": "python3"
  },
  "language_info": {
   "codemirror_mode": {
    "name": "ipython",
    "version": 3
   },
   "file_extension": ".py",
   "mimetype": "text/x-python",
   "name": "python",
   "nbconvert_exporter": "python",
   "pygments_lexer": "ipython3",
   "version": "3.13.0"
  }
 },
 "nbformat": 4,
 "nbformat_minor": 5
}
