{
 "cells": [
  {
   "cell_type": "code",
   "execution_count": 9,
   "id": "26e935a6",
   "metadata": {},
   "outputs": [],
   "source": [
    "from langchain_community.document_loaders import TextLoader\n",
    "\n",
    "# Load text\n",
    "loader = TextLoader(\"./data/genesi.txt\")\n",
    "content = loader.load()"
   ]
  },
  {
   "cell_type": "code",
   "execution_count": 10,
   "id": "c489744a",
   "metadata": {},
   "outputs": [],
   "source": [
    "# Define separators for text\n",
    "separators = [\n",
    "   \". \",\n",
    "   \"\\n\\n\",\n",
    "   \"\\n\",\n",
    "]"
   ]
  },
  {
   "cell_type": "code",
   "execution_count": 11,
   "id": "7b7fcf47",
   "metadata": {},
   "outputs": [],
   "source": [
    "from langchain_text_splitters import RecursiveCharacterTextSplitter\n",
    "\n",
    "# Create chunks\n",
    "splitter = RecursiveCharacterTextSplitter(separators=separators,chunk_size=800, chunk_overlap=200)\n",
    "docs = splitter.split_documents(content)"
   ]
  },
  {
   "cell_type": "code",
   "execution_count": 12,
   "id": "a96a46d1",
   "metadata": {},
   "outputs": [],
   "source": [
    "from langchain_huggingface import HuggingFaceEmbeddings\n",
    "\n",
    "# Define and load an embedding model, nomic it's optmized for italian\n",
    "embeddings_model = HuggingFaceEmbeddings(model_name=\"intfloat/multilingual-e5-large\")"
   ]
  },
  {
   "cell_type": "code",
   "execution_count": 13,
   "id": "7f560a76",
   "metadata": {},
   "outputs": [],
   "source": [
    "from langchain_qdrant import QdrantVectorStore\n",
    "connection_string = \"http://localhost:6333\"\n",
    "\n",
    "# Start embedding\n",
    "qdrant = QdrantVectorStore.from_documents(\n",
    "    docs,\n",
    "    embedding=embeddings_model,\n",
    "    url=connection_string,\n",
    "    collection_name=\"chap02\",\n",
    "    force_recreate=True,\n",
    "    distance=\"Cosine\"\n",
    ")"
   ]
  },
  {
   "cell_type": "code",
   "execution_count": 14,
   "id": "0b6dcbbb",
   "metadata": {},
   "outputs": [],
   "source": [
    "retriever = qdrant.as_retriever(search_kwargs={\"k\": 4})"
   ]
  },
  {
   "cell_type": "code",
   "execution_count": 15,
   "id": "9d2c8cfb",
   "metadata": {},
   "outputs": [
    {
     "data": {
      "text/plain": [
       "[Document(metadata={'source': './data/genesi.txt', '_id': '32675a5d-6428-4f1f-89b7-432559582d90', '_collection_name': 'chap02'}, page_content='. 2\\xa0E ogni creatura vivente della terra e ogni creatura alata dei cieli, ogni cosa che si muove sul suolo e tutti i pesci del mare avranno paura e terrore di voi. Ora sono nella vostra mano. 3\\xa0Tutti gli animali che si muovono e hanno vita vi serviranno da cibo. Ve li do come vi ho dato la verde vegetazione. 4\\xa0Ma la carne che ha ancora in sé la vita, il suo sangue, non dovete mangiarla. 5\\xa0Inoltre, se il vostro sangue viene versato, ne chiederò conto. Ne chiederò conto a ogni creatura vivente; chiederò conto a ogni uomo della vita di suo fratello. 6\\xa0Se qualcuno sparge il sangue di un uomo, il suo sangue sarà sparso da un uomo, perché Dio ha fatto l’uomo a sua immagine'),\n",
       " Document(metadata={'source': './data/genesi.txt', '_id': '8daece2d-d965-4df0-b601-bf9fd57edc44', '_collection_name': 'chap02'}, page_content='. 18\\xa0Produrrà spine e rovi, e tu mangerai la vegetazione dei campi. 19\\xa0Con il sudore della tua faccia mangerai pane, finché non tornerai al suolo, perché dal suolo sei stato tratto: polvere sei e polvere tornerai”.\\n20\\xa0Adamo poi diede a sua moglie il nome di Eva, perché doveva diventare la madre di tutti i viventi. 21\\xa0E Geova Dio fece per Adamo e sua moglie lunghe vesti di pelle, per vestirli. 22\\xa0Dopodiché Geova Dio disse: “L’uomo è diventato simile a uno di noi nel conoscere il bene e il male. Ora, affinché lui non stenda la mano per prendere anche il frutto dell’albero della vita e mangi e viva per sempre...” 23\\xa0Allora Geova Dio lo cacciò dal giardino di Èden, perché coltivasse il suolo dal quale era stato tratto'),\n",
       " Document(metadata={'source': './data/genesi.txt', '_id': '49f71209-0e06-4fd2-aff9-6afff6736022', '_collection_name': 'chap02'}, page_content='. Striscerai sul tuo ventre e mangerai polvere tutti i giorni della tua vita. 15\\xa0Io susciterò ostilità fra te e la donna, e fra la tua discendenza e la discendenza di lei. Lui ti schiaccerà la testa e tu lo colpirai al calcagno”.\\n16\\xa0Alla donna disse: “Aumenterò grandemente il dolore della tua gravidanza, e con doglie partorirai figli; i tuoi desideri ti spingeranno verso tuo marito, ma lui ti dominerà”.\\n17\\xa0E ad Adamo disse: “Dal momento che hai ascoltato la voce di tua moglie e hai mangiato il frutto dell’albero riguardo al quale ti avevo comandato: ‘Non devi mangiarne il frutto’, il suolo è maledetto a causa tua; con dolore ne mangerai i prodotti per tutti i giorni della tua vita. 18\\xa0Produrrà spine e rovi, e tu mangerai la vegetazione dei campi'),\n",
       " Document(metadata={'source': './data/genesi.txt', '_id': 'f77ff564-76ff-4c9c-8388-c0c01aa14fa6', '_collection_name': 'chap02'}, page_content='. 9\\xa0Più volte Geova Dio chiamò l’uomo e gli chiese: “Dove sei?” 10\\xa0Alla fine lui rispose: “Ho sentito la tua voce nel giardino, ma ho avuto paura perché ero nudo, e così mi sono nascosto”. 11\\xa0Dio gli chiese: “Chi ti ha detto che eri nudo? Hai mangiato il frutto dell’albero che ti avevo proibito di mangiare?” 12\\xa0L’uomo rispose: “La donna che mi hai dato, è stata lei a darmi il frutto dell’albero, e così ho mangiato”. 13\\xa0Allora Geova Dio disse alla donna: “Che cosa hai fatto?” La donna rispose: “Il serpente mi ha ingannato, e così ho mangiato”.\\n14\\xa0Quindi Geova Dio disse al serpente: “Visto quello che hai fatto, sei maledetto fra tutti gli animali domestici e fra tutti gli animali selvatici. Striscerai sul tuo ventre e mangerai polvere tutti i giorni della tua vita')]"
      ]
     },
     "execution_count": 15,
     "metadata": {},
     "output_type": "execute_result"
    }
   ],
   "source": [
    "retriever.invoke(\"Testo biblico dove Dio proibisce di mangiare qualcosa\")"
   ]
  },
  {
   "cell_type": "markdown",
   "id": "f6a2d74d",
   "metadata": {},
   "source": []
  },
  {
   "cell_type": "code",
   "execution_count": 16,
   "id": "91331e13",
   "metadata": {},
   "outputs": [
    {
     "name": "stdout",
     "output_type": "stream",
     "text": [
      "0.851271792605687\n"
     ]
    }
   ],
   "source": [
    "from numpy import dot\n",
    "from numpy.linalg import norm\n",
    "\n",
    "v1 = embeddings_model.embed_query(\"Dio proibisce di mangiare qualcosa\")\n",
    "v2 = embeddings_model.embed_query(\"ma il frutto dell'albero della conoscenza del bene e del male non devi mangiarlo\")\n",
    "\n",
    "similarity = dot(v1, v2) / (norm(v1) * norm(v2))\n",
    "print(similarity)"
   ]
  }
 ],
 "metadata": {
  "kernelspec": {
   "display_name": "localenv",
   "language": "python",
   "name": "python3"
  },
  "language_info": {
   "codemirror_mode": {
    "name": "ipython",
    "version": 3
   },
   "file_extension": ".py",
   "mimetype": "text/x-python",
   "name": "python",
   "nbconvert_exporter": "python",
   "pygments_lexer": "ipython3",
   "version": "3.13.0"
  }
 },
 "nbformat": 4,
 "nbformat_minor": 5
}
