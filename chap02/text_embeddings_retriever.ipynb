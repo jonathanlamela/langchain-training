{
 "cells": [
  {
   "cell_type": "code",
   "execution_count": 1,
   "id": "26e935a6",
   "metadata": {},
   "outputs": [],
   "source": [
    "from langchain_community.document_loaders import TextLoader\n",
    "\n",
    "# Load text\n",
    "loader = TextLoader(\"./data/genesi.txt\")\n",
    "content = loader.load()"
   ]
  },
  {
   "cell_type": "code",
   "execution_count": 2,
   "id": "c489744a",
   "metadata": {},
   "outputs": [],
   "source": [
    "# Define separators for text\n",
    "separators = [\n",
    "   \". \",\n",
    "   \"\\n\\n\",\n",
    "   \"\\n\",\n",
    "]"
   ]
  },
  {
   "cell_type": "code",
   "execution_count": 3,
   "id": "7b7fcf47",
   "metadata": {},
   "outputs": [],
   "source": [
    "from langchain_text_splitters import RecursiveCharacterTextSplitter\n",
    "\n",
    "# Create chunks\n",
    "splitter = RecursiveCharacterTextSplitter(separators=separators,chunk_size=800, chunk_overlap=200)\n",
    "docs = splitter.split_documents(content)"
   ]
  },
  {
   "cell_type": "code",
   "execution_count": 4,
   "id": "a96a46d1",
   "metadata": {},
   "outputs": [],
   "source": [
    "from langchain_ollama import OllamaEmbeddings\n",
    "\n",
    "# Define and load an embedding model, nomic it's optmized for italian\n",
    "embeddings_model = OllamaEmbeddings(model=\"mxbai-embed-large\")"
   ]
  },
  {
   "cell_type": "code",
   "execution_count": 5,
   "id": "7f560a76",
   "metadata": {},
   "outputs": [],
   "source": [
    "from langchain_qdrant import QdrantVectorStore\n",
    "connection_string = \"http://localhost:6333\"\n",
    "\n",
    "# Start embedding\n",
    "qdrant = QdrantVectorStore.from_documents(\n",
    "    docs,\n",
    "    embedding=embeddings_model,\n",
    "    url=connection_string,\n",
    "    collection_name=\"chap02\",\n",
    "    force_recreate=True,\n",
    "    distance=\"Cosine\"\n",
    ")"
   ]
  },
  {
   "cell_type": "code",
   "execution_count": 6,
   "id": "0b6dcbbb",
   "metadata": {},
   "outputs": [],
   "source": [
    "retriever = qdrant.as_retriever(search_kwargs={\"k\": 4})"
   ]
  },
  {
   "cell_type": "code",
   "execution_count": 7,
   "id": "9d2c8cfb",
   "metadata": {},
   "outputs": [
    {
     "data": {
      "text/plain": [
       "[Document(metadata={'source': './data/genesi.txt', '_id': 'd9835125-4c7c-4371-a252-dd5c7c3779c3', '_collection_name': 'chap02'}, page_content='. 5\\xa0Non ti chiamerai più Abramo, ma Abraamo, perché ti renderò padre di molte nazioni. 6\\xa0Ti renderò molto, molto fecondo e ti farò diventare nazioni, e da te discenderanno dei re.\\n7\\xa0“Rispetterò il patto fra me e te e la tua discendenza dopo di te, di generazione in generazione; è un patto eterno, in virtù del quale io sono il tuo Dio e il Dio della tua discendenza dopo di te. 8\\xa0E a te e ai tuoi discendenti dopo di te darò su base permanente il paese in cui hai vissuto come straniero, l’intero paese di Cànaan; e sarò il loro Dio”.\\n9\\xa0Poi Dio disse ad Abraamo: “Quanto a te, devi rispettare il mio patto, tu e la tua discendenza dopo di te, di generazione in generazione'),\n",
       " Document(metadata={'source': './data/genesi.txt', '_id': '30861d59-3396-4eab-8392-f7ed15a90204', '_collection_name': 'chap02'}, page_content='. Mise di proposito le mani in questo modo, anche se Manasse era il primogenito. 15\\xa0A quel punto benedisse Giuseppe dicendo:\\n“Il vero Dio, davanti al quale i miei padri Abraamo e Isacco hanno camminato,\\nil vero Dio, che mi ha guidato come un pastore durante tutta la mia vita fino a oggi,\\n16\\xa0l’angelo che mi ha liberato da ogni difficoltà, benedica i ragazzi.\\nTramite loro si perpetui il mio nome, e il nome dei miei padri, Abraamo e Isacco,\\ne divengano un popolo numeroso sulla terra”.\\n17\\xa0Quando vide che suo padre teneva la mano destra sulla testa di Èfraim, Giuseppe se ne dispiacque, così cercò di spostarla dalla testa di Èfraim per metterla sulla testa di Manasse. 18\\xa0E gli disse: “Non così, padre mio, perché il primogenito è questo. Metti la mano destra sulla sua testa”'),\n",
       " Document(metadata={'source': './data/genesi.txt', '_id': '1808688a-c3e1-45a6-af45-d03c5ef502d1', '_collection_name': 'chap02'}, page_content='. 7\\xa0Ma Dio mi ha mandato qui prima di voi per garantirvi dei superstiti sulla terra e per salvarvi la vita con una grande liberazione. 8\\xa0Perciò non siete stati voi a mandarmi qui ma il vero Dio, perché diventassi il principale consigliere del faraone, signore su tutta la sua casa e governatore su tutto il paese d’Egitto.\\n9\\xa0“Ora tornate in fretta da mio padre e ditegli: ‘Tuo figlio Giuseppe ha detto questo: “Dio mi ha fatto diventare signore su tutto l’Egitto. Vieni da me, non tardare! 10\\xa0Abiterai nel paese di Gòsen, così starai vicino a me, tu insieme ai tuoi figli, ai tuoi nipoti, alle tue greggi, alle tue mandrie e a tutto ciò che hai'),\n",
       " Document(metadata={'source': './data/genesi.txt', '_id': '75b4db10-163a-4b4f-baf2-0e123887c988', '_collection_name': 'chap02'}, page_content='. 7\\xa0Quindi Dio fece questo ampio spazio, e separò le acque che erano sotto l’ampio spazio dalle acque che erano sopra. E così avvenne. 8\\xa0Dio chiamò l’ampio spazio “cielo”. E si fece sera e si fece mattina, il secondo giorno.\\n9\\xa0Poi Dio disse: “Le acque sotto i cieli si raccolgano in un solo luogo e appaia l’asciutto”. E così avvenne. 10\\xa0Dio chiamò l’asciutto “terra” e la massa delle acque “mare”. E vide che era buono. 11\\xa0Allora Dio disse: “La terra faccia germogliare erba, piante che producono seme e alberi da frutto, che portano frutto con seme sulla terra, ciascuno secondo la propria specie”. E così avvenne. 12\\xa0La terra iniziò a produrre erba, piante che producono seme e alberi che portano frutto con seme, secondo le loro specie. E Dio vide che era buono')]"
      ]
     },
     "execution_count": 7,
     "metadata": {},
     "output_type": "execute_result"
    }
   ],
   "source": [
    "retriever.invoke(\"Testo biblico dove Dio proibisce di mangiare qualcosa\")"
   ]
  },
  {
   "cell_type": "markdown",
   "id": "f6a2d74d",
   "metadata": {},
   "source": []
  },
  {
   "cell_type": "code",
   "execution_count": 8,
   "id": "91331e13",
   "metadata": {},
   "outputs": [
    {
     "name": "stdout",
     "output_type": "stream",
     "text": [
      "0.6517329632403439\n"
     ]
    }
   ],
   "source": [
    "from numpy import dot\n",
    "from numpy.linalg import norm\n",
    "\n",
    "v1 = embeddings_model.embed_query(\"Dio proibisce di mangiare qualcosa\")\n",
    "v2 = embeddings_model.embed_query(\"ma il frutto dell'albero della conoscenza del bene e del male non devi mangiarlo\")\n",
    "\n",
    "similarity = dot(v1, v2) / (norm(v1) * norm(v2))\n",
    "print(similarity)"
   ]
  }
 ],
 "metadata": {
  "kernelspec": {
   "display_name": "localenv",
   "language": "python",
   "name": "python3"
  },
  "language_info": {
   "codemirror_mode": {
    "name": "ipython",
    "version": 3
   },
   "file_extension": ".py",
   "mimetype": "text/x-python",
   "name": "python",
   "nbconvert_exporter": "python",
   "pygments_lexer": "ipython3",
   "version": "3.13.0"
  }
 },
 "nbformat": 4,
 "nbformat_minor": 5
}
