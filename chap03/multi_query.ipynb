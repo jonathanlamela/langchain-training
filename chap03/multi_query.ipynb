{
 "cells": [
  {
   "cell_type": "code",
   "execution_count": 1,
   "id": "1db495ec",
   "metadata": {},
   "outputs": [],
   "source": [
    "collection_name = \"chap_03\"\n",
    "connection_string = \"http://localhost:6333\""
   ]
  },
  {
   "cell_type": "code",
   "execution_count": 2,
   "id": "ebf1ab94",
   "metadata": {},
   "outputs": [],
   "source": [
    "from langchain_huggingface import HuggingFaceEmbeddings\n",
    "\n",
    "# Define and load an embedding model, nomic it's optmized for italian\n",
    "embeddings_model = HuggingFaceEmbeddings(model_name=\"intfloat/multilingual-e5-large\")"
   ]
  },
  {
   "cell_type": "code",
   "execution_count": 3,
   "id": "7f560a76",
   "metadata": {},
   "outputs": [],
   "source": [
    "from langchain_qdrant import QdrantVectorStore\n",
    "from qdrant_client import QdrantClient\n",
    "\n",
    "client = QdrantClient(\n",
    "    url=connection_string,\n",
    ")\n",
    "\n",
    "# Retrieve embedding\n",
    "qdrant = QdrantVectorStore(\n",
    "    client=client,\n",
    "    embedding=embeddings_model,\n",
    "    collection_name=collection_name,\n",
    "\n",
    ")"
   ]
  },
  {
   "cell_type": "code",
   "execution_count": 4,
   "id": "0b6dcbbb",
   "metadata": {},
   "outputs": [],
   "source": [
    "# Get retrieved\n",
    "retriever = qdrant.as_retriever()"
   ]
  },
  {
   "cell_type": "code",
   "execution_count": 5,
   "id": "ebf283ef",
   "metadata": {},
   "outputs": [],
   "source": [
    "from langchain_ollama import OllamaLLM\n",
    "\n",
    "# Import model\n",
    "llm = OllamaLLM(model='gemma3')"
   ]
  },
  {
   "cell_type": "code",
   "execution_count": null,
   "id": "0d00719d",
   "metadata": {},
   "outputs": [],
   "source": [
    "from langchain_core.prompts import ChatPromptTemplate\n",
    "\n",
    "# Prompt ch genera 5 versioni diverse della domanda\n",
    "perspective_prompt = ChatPromptTemplate.from_template(\"\"\"You are an AI language\n",
    "    model assistant. Your task is to generate five different versions of the\n",
    "    given user question to retrieve relevant documents from a vector database.\n",
    "    By generating multiple perspectives on the user question, your goal is to\n",
    "    help the user overcome some of the limitations of the distance-based\n",
    "    similarity search. Provide these alternative questions separated by\n",
    "    newlines. Original question: {question}\"\"\")\n",
    "\n",
    "# Divide la risposta estrando le 5 versioni della domanda\n",
    "def parse_queries_output(message):\n",
    "    return message.split('\\n')\n",
    "\n",
    "# Crea un chain per il query gen\n",
    "query_gen = perspective_prompt | llm | parse_queries_output"
   ]
  },
  {
   "cell_type": "code",
   "execution_count": 19,
   "id": "3bbdc4a9",
   "metadata": {},
   "outputs": [],
   "source": [
    "def get_unique_union(document_lists):\n",
    "    deduped_docs = {\n",
    "        doc.page_content: doc\n",
    "        for sublist in document_lists for doc in sublist\n",
    "    }\n",
    "    return list(deduped_docs.values())\n",
    "\n",
    "# Prende tutti i documenti che sono stati trovati dalle 5 query e forma un unica lista\n",
    "retrieval_chain = query_gen | retriever.batch | get_unique_union"
   ]
  },
  {
   "cell_type": "code",
   "execution_count": 20,
   "id": "47be18ab",
   "metadata": {},
   "outputs": [],
   "source": [
    "from langchain_core.prompts import ChatPromptTemplate\n",
    "\n",
    "prompt = ChatPromptTemplate([\n",
    "    (\"system\", \"\"\"\n",
    "     You are a helpful assistant answer the question based only on the following context: {context}.\n",
    "     Answer in Italian. Always add in the anser the bible chapter and verses.\n",
    "     Useful informations:\n",
    "     1 cubit = 45,72 cm\n",
    "     \"\"\"),\n",
    "    (\"user\", \"Question: {question}\")\n",
    "])"
   ]
  },
  {
   "cell_type": "code",
   "execution_count": 15,
   "id": "55f81366",
   "metadata": {},
   "outputs": [],
   "source": [
    "from langchain_core.runnables import chain\n",
    "\n",
    "@chain\n",
    "def qa(question):\n",
    "    docs = retrieval_chain.invoke(question)\n",
    "    formatted = prompt.invoke({\"context\":docs, \"question\":question})\n",
    "    return llm.invoke(formatted)\n"
   ]
  },
  {
   "cell_type": "code",
   "execution_count": 21,
   "id": "2d40869f",
   "metadata": {},
   "outputs": [
    {
     "name": "stdout",
     "output_type": "stream",
     "text": [
      "Here are five alternative versions of the question \"dimensioni dell'arca in centimetri\" designed to broaden the search and potentially retrieve more relevant documents:\n",
      "\n",
      "Size of the Ark in centimeters\n",
      "Ark dimensions in centimeters\n",
      "Measuring the Noah's Ark - dimensions\n",
      "Noah's Ark size - cm\n",
      "What is the length, width, and height of the Ark in centimeters?\n"
     ]
    },
    {
     "data": {
      "text/plain": [
       "\"L'arca doveva essere lunga 300 cubiti, larga 50 cubiti e alta 30 cubiti.\\n\\nCalcoliamo le dimensioni in centimetri:\\n\\n*   Lunghezza: 300 cubiti * 45,72 cm/cubito = 13716 cm\\n*   Larghezza: 50 cubiti * 45,72 cm/cubito = 2286 cm\\n*   Altezza: 30 cubiti * 45,72 cm/cubito = 1371,6 cm\\n\\nQuindi, le dimensioni dell'arca erano: 13716 cm di lunghezza, 2286 cm di larghezza e 1371,6 cm di altezza. (Genesi 6:15)\""
      ]
     },
     "execution_count": 21,
     "metadata": {},
     "output_type": "execute_result"
    }
   ],
   "source": [
    "await qa.ainvoke(\"dimensioni dell'arca in centimetri\")"
   ]
  },
  {
   "cell_type": "markdown",
   "id": "f6a2d74d",
   "metadata": {},
   "source": []
  }
 ],
 "metadata": {
  "kernelspec": {
   "display_name": "localenv",
   "language": "python",
   "name": "python3"
  },
  "language_info": {
   "codemirror_mode": {
    "name": "ipython",
    "version": 3
   },
   "file_extension": ".py",
   "mimetype": "text/x-python",
   "name": "python",
   "nbconvert_exporter": "python",
   "pygments_lexer": "ipython3",
   "version": "3.13.0"
  }
 },
 "nbformat": 4,
 "nbformat_minor": 5
}
