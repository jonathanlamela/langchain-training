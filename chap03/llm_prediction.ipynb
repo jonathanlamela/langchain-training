{
 "cells": [
  {
   "cell_type": "code",
   "execution_count": 114,
   "id": "1db495ec",
   "metadata": {},
   "outputs": [],
   "source": [
    "collection_name = \"chap_03\"\n",
    "connection_string = \"http://localhost:6333\""
   ]
  },
  {
   "cell_type": "code",
   "execution_count": 115,
   "id": "ebf1ab94",
   "metadata": {},
   "outputs": [],
   "source": [
    "from langchain_huggingface import HuggingFaceEmbeddings\n",
    "\n",
    "# Define and load an embedding model, nomic it's optmized for italian\n",
    "embeddings_model = HuggingFaceEmbeddings(model_name=\"intfloat/multilingual-e5-large\")"
   ]
  },
  {
   "cell_type": "code",
   "execution_count": 116,
   "id": "7f560a76",
   "metadata": {},
   "outputs": [],
   "source": [
    "from langchain_qdrant import QdrantVectorStore\n",
    "from qdrant_client import QdrantClient\n",
    "\n",
    "client = QdrantClient(\n",
    "    url=connection_string,\n",
    ")\n",
    "\n",
    "# Retrieve embedding\n",
    "qdrant = QdrantVectorStore(\n",
    "    client=client,\n",
    "    embedding=embeddings_model,\n",
    "    collection_name=collection_name,\n",
    "\n",
    ")"
   ]
  },
  {
   "cell_type": "code",
   "execution_count": 117,
   "id": "0b6dcbbb",
   "metadata": {},
   "outputs": [],
   "source": [
    "# Get retrieved\n",
    "retriever = qdrant.as_retriever()"
   ]
  },
  {
   "cell_type": "code",
   "execution_count": 118,
   "id": "47be18ab",
   "metadata": {},
   "outputs": [],
   "source": [
    "from langchain_ollama import OllamaLLM\n",
    "from langchain_core.prompts import ChatPromptTemplate\n",
    "\n",
    "\n",
    "prompt = ChatPromptTemplate([\n",
    "    (\"system\", \"\"\"\n",
    "     You are a helpful assistant answer the question based only on the following context: {context}.\n",
    "     Answer in Italian.\n",
    "     Useful informations:\n",
    "     1 cubit = 45,72 cm\n",
    "     \"\"\"),\n",
    "    (\"user\", \"Question: {question}\")\n",
    "])"
   ]
  },
  {
   "cell_type": "code",
   "execution_count": 119,
   "id": "ebf283ef",
   "metadata": {},
   "outputs": [],
   "source": [
    "# Import model\n",
    "llm = OllamaLLM(model='gemma3:latest')"
   ]
  },
  {
   "cell_type": "code",
   "execution_count": 120,
   "id": "02534b23",
   "metadata": {},
   "outputs": [],
   "source": [
    "# Create chain\n",
    "chain = prompt | llm"
   ]
  },
  {
   "cell_type": "code",
   "execution_count": null,
   "id": "8bb8fb9e",
   "metadata": {},
   "outputs": [],
   "source": [
    "question = \"dimensioni dell'arca in centimetri\""
   ]
  },
  {
   "cell_type": "code",
   "execution_count": 122,
   "id": "2d40869f",
   "metadata": {},
   "outputs": [],
   "source": [
    "# Get relevant docs\n",
    "retrieved_docs = retriever.invoke(question)"
   ]
  },
  {
   "cell_type": "code",
   "execution_count": 123,
   "id": "d88d392e",
   "metadata": {},
   "outputs": [
    {
     "data": {
      "text/plain": [
       "'Secondo il testo, la terra fu creata nel giorno in cui Geova Dio la fece. Tuttavia, il testo menziona che la pioggia cadde sulla terra per 40 giorni e 40 notti dopo sette giorni.'"
      ]
     },
     "execution_count": 123,
     "metadata": {},
     "output_type": "execute_result"
    }
   ],
   "source": [
    "chain.invoke({\"context\":retrieved_docs, \"question\":question})"
   ]
  },
  {
   "cell_type": "markdown",
   "id": "f6a2d74d",
   "metadata": {},
   "source": []
  }
 ],
 "metadata": {
  "kernelspec": {
   "display_name": "localenv",
   "language": "python",
   "name": "python3"
  },
  "language_info": {
   "codemirror_mode": {
    "name": "ipython",
    "version": 3
   },
   "file_extension": ".py",
   "mimetype": "text/x-python",
   "name": "python",
   "nbconvert_exporter": "python",
   "pygments_lexer": "ipython3",
   "version": "3.13.0"
  }
 },
 "nbformat": 4,
 "nbformat_minor": 5
}
