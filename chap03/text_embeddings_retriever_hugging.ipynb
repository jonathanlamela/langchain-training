{
 "cells": [
  {
   "cell_type": "code",
   "execution_count": 1,
   "id": "1db495ec",
   "metadata": {},
   "outputs": [],
   "source": [
    "collection_name = \"chap_03\"\n",
    "connection_string = \"http://localhost:6333\"\n",
    "book_title = \"Genesi\""
   ]
  },
  {
   "cell_type": "code",
   "execution_count": 2,
   "id": "26e935a6",
   "metadata": {},
   "outputs": [],
   "source": [
    "from langchain_community.document_loaders import TextLoader\n",
    "\n",
    "# Load text\n",
    "loader = TextLoader(\"./data/genesi.txt\")\n",
    "content = loader.load()[0].page_content"
   ]
  },
  {
   "cell_type": "code",
   "execution_count": 3,
   "id": "cf2547ab",
   "metadata": {},
   "outputs": [],
   "source": [
    "import re\n",
    "\n",
    "chapters = re.split(r\"(?=Capitolo\\s+\\d+)\", content)"
   ]
  },
  {
   "cell_type": "code",
   "execution_count": 4,
   "id": "c489744a",
   "metadata": {},
   "outputs": [],
   "source": [
    "# Define separators for text\n",
    "separators = [\n",
    "   \". \",\n",
    "   \"\\n\\n\",\n",
    "   \"\\n\",\n",
    "]"
   ]
  },
  {
   "cell_type": "code",
   "execution_count": 5,
   "id": "7b7fcf47",
   "metadata": {},
   "outputs": [],
   "source": [
    "from langchain_text_splitters import RecursiveCharacterTextSplitter\n",
    "\n",
    "# Create chunks\n",
    "docs = []\n",
    "splitter = RecursiveCharacterTextSplitter(separators=separators,chunk_size=400, chunk_overlap=200)"
   ]
  },
  {
   "cell_type": "code",
   "execution_count": 6,
   "id": "50730df7",
   "metadata": {},
   "outputs": [],
   "source": [
    "for chapter_text in chapters:\n",
    "    chapter_text = chapter_text.strip()\n",
    "    if not chapter_text:\n",
    "        continue\n",
    "\n",
    "    # Add a metadata with chapter name\n",
    "    match = re.match(r\"(Capitolo\\s+\\d+)\", chapter_text)\n",
    "    chapter_title = match.group(1) if match else \"Unknown\"\n",
    "\n",
    "    chapter_docs = splitter.create_documents([chapter_text], metadatas=[{\"chapter\": chapter_title,\"book_title\":book_title}])\n",
    "    docs.extend(chapter_docs)"
   ]
  },
  {
   "cell_type": "code",
   "execution_count": 7,
   "id": "a96a46d1",
   "metadata": {},
   "outputs": [],
   "source": [
    "from langchain_huggingface import HuggingFaceEmbeddings\n",
    "\n",
    "# Define and load an embedding model, nomic it's optmized for italian\n",
    "embeddings_model = HuggingFaceEmbeddings(model_name=\"intfloat/multilingual-e5-large\")"
   ]
  },
  {
   "cell_type": "code",
   "execution_count": 8,
   "id": "7f560a76",
   "metadata": {},
   "outputs": [],
   "source": [
    "from langchain_qdrant import QdrantVectorStore\n",
    "\n",
    "# Start embedding\n",
    "qdrant = QdrantVectorStore.from_documents(\n",
    "    docs,\n",
    "    embedding=embeddings_model,\n",
    "    url=connection_string,\n",
    "    collection_name=collection_name,\n",
    "    force_recreate=True,\n",
    "    distance=\"Cosine\"\n",
    ")"
   ]
  },
  {
   "cell_type": "markdown",
   "id": "f6a2d74d",
   "metadata": {},
   "source": []
  }
 ],
 "metadata": {
  "kernelspec": {
   "display_name": "localenv",
   "language": "python",
   "name": "python3"
  },
  "language_info": {
   "codemirror_mode": {
    "name": "ipython",
    "version": 3
   },
   "file_extension": ".py",
   "mimetype": "text/x-python",
   "name": "python",
   "nbconvert_exporter": "python",
   "pygments_lexer": "ipython3",
   "version": "3.13.0"
  }
 },
 "nbformat": 4,
 "nbformat_minor": 5
}
