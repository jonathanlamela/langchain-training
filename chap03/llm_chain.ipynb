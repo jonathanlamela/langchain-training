{
 "cells": [
  {
   "cell_type": "code",
   "execution_count": 1,
   "id": "1db495ec",
   "metadata": {},
   "outputs": [],
   "source": [
    "collection_name = \"chap_03\"\n",
    "connection_string = \"http://localhost:6333\""
   ]
  },
  {
   "cell_type": "code",
   "execution_count": 2,
   "id": "ebf1ab94",
   "metadata": {},
   "outputs": [],
   "source": [
    "from langchain_huggingface import HuggingFaceEmbeddings\n",
    "\n",
    "# Define and load an embedding model, nomic it's optmized for italian\n",
    "embeddings_model = HuggingFaceEmbeddings(model_name=\"intfloat/multilingual-e5-large\")"
   ]
  },
  {
   "cell_type": "code",
   "execution_count": 3,
   "id": "7f560a76",
   "metadata": {},
   "outputs": [],
   "source": [
    "from langchain_qdrant import QdrantVectorStore\n",
    "from qdrant_client import QdrantClient\n",
    "\n",
    "client = QdrantClient(\n",
    "    url=connection_string,\n",
    ")\n",
    "\n",
    "# Retrieve embedding\n",
    "qdrant = QdrantVectorStore(\n",
    "    client=client,\n",
    "    embedding=embeddings_model,\n",
    "    collection_name=collection_name,\n",
    "\n",
    ")"
   ]
  },
  {
   "cell_type": "code",
   "execution_count": 4,
   "id": "0b6dcbbb",
   "metadata": {},
   "outputs": [],
   "source": [
    "# Get retrieved\n",
    "retriever = qdrant.as_retriever()"
   ]
  },
  {
   "cell_type": "code",
   "execution_count": 10,
   "id": "47be18ab",
   "metadata": {},
   "outputs": [],
   "source": [
    "from langchain_ollama import OllamaLLM\n",
    "from langchain_core.prompts import ChatPromptTemplate\n",
    "\n",
    "\n",
    "prompt = ChatPromptTemplate([\n",
    "    (\"system\", \"\"\"\n",
    "     You are a helpful assistant answer the question based only on the following context: {context}.\n",
    "     Answer in Italian. Always add in the anser the bible chapter and verses.\n",
    "     Useful informations:\n",
    "     1 cubit = 45,72 cm\n",
    "     \"\"\"),\n",
    "    (\"user\", \"Question: {question}\")\n",
    "])"
   ]
  },
  {
   "cell_type": "code",
   "execution_count": 11,
   "id": "ebf283ef",
   "metadata": {},
   "outputs": [],
   "source": [
    "# Import model\n",
    "llm = OllamaLLM(model='gemma3')"
   ]
  },
  {
   "cell_type": "code",
   "execution_count": 12,
   "id": "55f81366",
   "metadata": {},
   "outputs": [],
   "source": [
    "from langchain_core.runnables import chain\n",
    "\n",
    "@chain\n",
    "def qa(question):\n",
    "    # Get relevant docs\n",
    "    retrieved_docs = retriever.invoke(question)\n",
    "    formatted = prompt.invoke({\"context\":retrieved_docs, \"question\":question})\n",
    "    return llm.invoke(formatted)"
   ]
  },
  {
   "cell_type": "code",
   "execution_count": 13,
   "id": "8bb8fb9e",
   "metadata": {},
   "outputs": [],
   "source": [
    "question = \"dimensioni dell'arca in centimetri\""
   ]
  },
  {
   "cell_type": "code",
   "execution_count": 14,
   "id": "2d40869f",
   "metadata": {},
   "outputs": [
    {
     "data": {
      "text/plain": [
       "'Le dimensioni dell’arca sono: lunga 300 cubiti, larga 50 cubiti e alta 30 cubiti.\\n\\nCalcoliamo le dimensioni in centimetri:\\n\\n*   Lungo: 300 cubiti * 45,72 cm/cubito = 13716 cm\\n*   Largo: 50 cubiti * 45,72 cm/cubito = 2286 cm\\n*   Alto: 30 cubiti * 45,72 cm/cubito = 1371,6 cm\\n\\nQuindi, le dimensioni dell’arca sono: 13716 cm di lunghezza, 2286 cm di larghezza e 1371,6 cm di altezza. (Genesi 6:14-16)'"
      ]
     },
     "execution_count": 14,
     "metadata": {},
     "output_type": "execute_result"
    }
   ],
   "source": [
    "qa.invoke(\"dimensioni dell'arca in centimetri\")"
   ]
  },
  {
   "cell_type": "markdown",
   "id": "f6a2d74d",
   "metadata": {},
   "source": []
  }
 ],
 "metadata": {
  "kernelspec": {
   "display_name": "localenv",
   "language": "python",
   "name": "python3"
  },
  "language_info": {
   "codemirror_mode": {
    "name": "ipython",
    "version": 3
   },
   "file_extension": ".py",
   "mimetype": "text/x-python",
   "name": "python",
   "nbconvert_exporter": "python",
   "pygments_lexer": "ipython3",
   "version": "3.13.0"
  }
 },
 "nbformat": 4,
 "nbformat_minor": 5
}
