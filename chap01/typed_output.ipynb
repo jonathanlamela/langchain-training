{
 "cells": [
  {
   "cell_type": "code",
   "execution_count": null,
   "id": "6bd6fdda",
   "metadata": {},
   "outputs": [],
   "source": [
    "from langchain_ollama import ChatOllama\n",
    "from pydantic import BaseModel"
   ]
  },
  {
   "cell_type": "code",
   "execution_count": null,
   "id": "34a78cd8",
   "metadata": {},
   "outputs": [],
   "source": [
    "model = ChatOllama(model=\"gemma3:latest\")"
   ]
  },
  {
   "cell_type": "code",
   "execution_count": null,
   "id": "8265c53c",
   "metadata": {},
   "outputs": [],
   "source": [
    "class CityInfo(BaseModel):\n",
    "    '''Full answer for the user'''\n",
    "    answer: str\n",
    "    '''Province where the city is located'''\n",
    "    province: str\n",
    "    '''Name of the city'''\n",
    "    city: str\n",
    "    '''City inhabitants'''\n",
    "    inhabitants: int"
   ]
  },
  {
   "cell_type": "code",
   "execution_count": null,
   "id": "4d974347",
   "metadata": {},
   "outputs": [],
   "source": [
    "structured_response = model.with_structured_output(CityInfo)"
   ]
  },
  {
   "cell_type": "code",
   "execution_count": null,
   "id": "a7497ff1",
   "metadata": {},
   "outputs": [],
   "source": [
    "structured_response.invoke('Where is Adrano?')"
   ]
  }
 ],
 "metadata": {
  "language_info": {
   "name": "python"
  }
 },
 "nbformat": 4,
 "nbformat_minor": 5
}
