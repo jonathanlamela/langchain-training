{
 "cells": [
  {
   "cell_type": "code",
   "execution_count": null,
   "id": "7b63c98f",
   "metadata": {},
   "outputs": [],
   "source": [
    "from langchain_ollama import OllamaLLM\n",
    "from langchain_core.messages import HumanMessage, SystemMessage"
   ]
  },
  {
   "cell_type": "code",
   "execution_count": null,
   "id": "906d879b",
   "metadata": {},
   "outputs": [],
   "source": [
    "model = OllamaLLM(model=\"gemma3:latest\", temperature=0.2)"
   ]
  },
  {
   "cell_type": "code",
   "execution_count": null,
   "id": "1e233020",
   "metadata": {},
   "outputs": [],
   "source": [
    "model.invoke(\"The sky is\")"
   ]
  },
  {
   "cell_type": "code",
   "execution_count": null,
   "id": "4da60749",
   "metadata": {},
   "outputs": [],
   "source": [
    "system_message = SystemMessage(content=\"You are a helpful assistant that provides concise answers max 10 chars\")"
   ]
  },
  {
   "cell_type": "code",
   "execution_count": null,
   "id": "09479c4e",
   "metadata": {},
   "outputs": [],
   "source": [
    "model.invoke([system_message, HumanMessage(content=\"The sky is\")])"
   ]
  }
 ],
 "metadata": {
  "language_info": {
   "name": "python"
  }
 },
 "nbformat": 4,
 "nbformat_minor": 5
}
