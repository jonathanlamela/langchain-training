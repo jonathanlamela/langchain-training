{
 "cells": [
  {
   "cell_type": "code",
   "execution_count": 13,
   "id": "659d8422",
   "metadata": {},
   "outputs": [],
   "source": [
    "from langchain_ollama import OllamaLLM\n",
    "from langchain_core.messages import HumanMessage, SystemMessage"
   ]
  },
  {
   "cell_type": "code",
   "execution_count": 14,
   "id": "90b76cbf",
   "metadata": {},
   "outputs": [],
   "source": [
    "model = OllamaLLM(model=\"gemma3:latest\", temperature=0.2)"
   ]
  },
  {
   "cell_type": "code",
   "execution_count": 15,
   "id": "9dd15c78",
   "metadata": {},
   "outputs": [
    {
     "data": {
      "text/plain": [
       "'The sky is **blue** (most of the time!). \\n\\nOf course, it can be many other colors too:\\n\\n*   **Gray** (on cloudy days)\\n*   **Orange, pink, and red** (at sunrise and sunset)\\n*   **Black** (at night)\\n\\nWhat color do you see it as today?'"
      ]
     },
     "execution_count": 15,
     "metadata": {},
     "output_type": "execute_result"
    }
   ],
   "source": [
    "model.invoke(\"The sky is\")"
   ]
  },
  {
   "cell_type": "code",
   "execution_count": 16,
   "id": "c2c2110c",
   "metadata": {},
   "outputs": [],
   "source": [
    "system_message = SystemMessage(content=\"You are a helpful assistant that provides concise answers max 10 chars\")"
   ]
  },
  {
   "cell_type": "code",
   "execution_count": 17,
   "id": "a83d3b8d",
   "metadata": {},
   "outputs": [
    {
     "data": {
      "text/plain": [
       "'Blue.'"
      ]
     },
     "execution_count": 17,
     "metadata": {},
     "output_type": "execute_result"
    }
   ],
   "source": [
    "model.invoke([system_message, HumanMessage(content=\"The sky is\")])"
   ]
  }
 ],
 "metadata": {
  "kernelspec": {
   "display_name": "localenv",
   "language": "python",
   "name": "python3"
  },
  "language_info": {
   "codemirror_mode": {
    "name": "ipython",
    "version": 3
   },
   "file_extension": ".py",
   "mimetype": "text/x-python",
   "name": "python",
   "nbconvert_exporter": "python",
   "pygments_lexer": "ipython3",
   "version": "3.13.0"
  }
 },
 "nbformat": 4,
 "nbformat_minor": 5
}
