{
 "cells": [
  {
   "cell_type": "code",
   "execution_count": null,
   "id": "129ff268",
   "metadata": {},
   "outputs": [],
   "source": [
    "from langchain_core.prompts import PromptTemplate, ChatPromptTemplate\n",
    "from langchain_ollama import OllamaLLM"
   ]
  },
  {
   "cell_type": "code",
   "execution_count": null,
   "id": "477f1a03",
   "metadata": {},
   "outputs": [],
   "source": [
    "template = PromptTemplate.from_template(\"Rispondi alla domanda in maniera semplice e coincisa massimo 10 caratteri: {question}\")"
   ]
  },
  {
   "cell_type": "code",
   "execution_count": null,
   "id": "93ec8ad6",
   "metadata": {},
   "outputs": [],
   "source": [
    "prompt = template.invoke({\"question\": \"Colore del cielo\"})"
   ]
  },
  {
   "cell_type": "code",
   "execution_count": null,
   "id": "688e70f2",
   "metadata": {},
   "outputs": [],
   "source": [
    "model = OllamaLLM(model=\"gemma3:latest\")"
   ]
  },
  {
   "cell_type": "code",
   "execution_count": null,
   "id": "821e92f3",
   "metadata": {},
   "outputs": [],
   "source": [
    "model.invoke(prompt)"
   ]
  },
  {
   "cell_type": "code",
   "execution_count": null,
   "id": "1b4487a0",
   "metadata": {},
   "outputs": [],
   "source": [
    "template = ChatPromptTemplate.from_messages([\n",
    "    (\"system\", \"You're an helpful assistant that answers in coincise way (max 10 characters).\"),\n",
    "    (\"user\", \"{question}\"),\n",
    "])"
   ]
  },
  {
   "cell_type": "code",
   "execution_count": null,
   "id": "7c6cac9c",
   "metadata": {},
   "outputs": [],
   "source": [
    "model.invoke(template.invoke({\n",
    "    \"question\": \"What's the sky color\"\n",
    "}))"
   ]
  }
 ],
 "metadata": {
  "language_info": {
   "name": "python"
  }
 },
 "nbformat": 4,
 "nbformat_minor": 5
}
